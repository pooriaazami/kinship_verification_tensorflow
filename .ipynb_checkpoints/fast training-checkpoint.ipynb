{
 "cells": [
  {
   "cell_type": "code",
   "execution_count": 1,
   "id": "0aad38c1",
   "metadata": {},
   "outputs": [],
   "source": [
    "import tensorflow as tf\n",
    "import tensorflow.keras as keras\n",
    "import tensorflow.keras.layers as layers\n",
    "\n",
    "from keras_vggface.vggface import VGGFace\n",
    "\n",
    "from utils.DataLoader import load_data\n",
    "from models.SiameseNet import SiameseModel, build_network\n",
    "from models.Attention import CBAM\n",
    "\n",
    "import numpy as np\n",
    "import matplotlib.pyplot as plt\n",
    "\n",
    "from IPython.display import Image, display\n",
    "import matplotlib.cm as cm"
   ]
  },
  {
   "cell_type": "code",
   "execution_count": 2,
   "id": "a6c0b65a",
   "metadata": {},
   "outputs": [],
   "source": [
    "def load_datasets(dataset, test_fold, batch_size=128):\n",
    "    if dataset == 'KI':\n",
    "        train_dataset = load_data(f'data\\\\KinFaceWITrainFolds{test_fold}.tfrecords', batch_size=batch_size)\n",
    "        validation_dataset = load_data(f'data\\\\KinFaceWITestFolds{test_fold}.tfrecords', batch_size=batch_size)\n",
    "    elif dataset == 'KII':\n",
    "        train_dataset = load_data(f'data\\\\KinFaceWIITrainFolds{test_fold}.tfrecords', batch_size=batch_size)\n",
    "        validation_dataset = load_data(f'data\\\\KinFaceWIITestFolds{test_fold}.tfrecords', batch_size=batch_size)\n",
    "        \n",
    "    \n",
    "    return train_dataset, validation_dataset"
   ]
  },
  {
   "cell_type": "code",
   "execution_count": 3,
   "id": "4f198cec",
   "metadata": {},
   "outputs": [],
   "source": [
    "class MaskModel(keras.models.Model):\n",
    "    def __init__(self, mask_model, alpha=.5):\n",
    "        super().__init__()\n",
    "        \n",
    "        self.mask_model = mask_model\n",
    "        self.alpha = alpha\n",
    "    \n",
    "    def call(self, x):\n",
    "        mask = self.mask_model(x)\n",
    "        mask = tf.argmax(mask, -1)\n",
    "        mask = tf.expand_dims(mask, 3)\n",
    "        mask = tf.cast(mask, tf.float32)\n",
    "        \n",
    "        x = self.alpha * mask + (1 - self.alpha) * x\n",
    "        \n",
    "        return x"
   ]
  },
  {
   "cell_type": "code",
   "execution_count": 4,
   "id": "3118d4de",
   "metadata": {},
   "outputs": [],
   "source": [
    "def build_siamese_network(use_cbam, train_vgg, embedding_size):\n",
    "    input_layer = layers.Input((64, 64, 3))\n",
    "    vgg = VGGFace(model='vgg16', include_top=False, input_shape=(64, 64, 3))\n",
    "    \n",
    "    if use_cbam:\n",
    "        cbam = CBAM(3)(input_layer)\n",
    "        x = vgg(cbam)\n",
    "    else:\n",
    "        x = vgg(input_layer)\n",
    "        \n",
    "    x = layers.Flatten()(x)\n",
    "    \n",
    "    output_layer = layers.Dense(embedding_size)(x)\n",
    "\n",
    "    network = keras.Model(inputs=input_layer, outputs=output_layer)\n",
    "    \n",
    "    if not train_vgg:\n",
    "        for layer in vgg.layers:\n",
    "            layer.trainable = False\n",
    "        \n",
    "    return network\n",
    "\n",
    "def add_prior_attention_to_model(base_model):\n",
    "    mask_generator = keras.models.load_model('model.h5')\n",
    "    mask_model = MaskModel(mask_generator, .2)\n",
    "    \n",
    "    input_layer = layers.Input((64, 64, 3))\n",
    "    x = mask_model(input_layer)\n",
    "    x = base_model(x)\n",
    "    \n",
    "    model = keras.models.Model(inputs=input_layer, outputs=x)\n",
    "    \n",
    "    for layer in mask_generator.layers:\n",
    "        layer.trainable = False\n",
    "    \n",
    "    return model\n",
    "\n",
    "def build_final_model(use_prior=False, use_cbam=True, train_vgg=False, embedding_size=1024):\n",
    "    network = build_siamese_network(use_cbam, train_vgg, embedding_size)\n",
    "    \n",
    "    if use_prior:\n",
    "        network = add_prior_attention_to_model(network)\n",
    "        \n",
    "    siamese_network = build_network(network)\n",
    "    model = SiameseModel(siamese_network)\n",
    "    \n",
    "    return model, network"
   ]
  },
  {
   "cell_type": "code",
   "execution_count": 5,
   "id": "3af2c864",
   "metadata": {},
   "outputs": [],
   "source": [
    "def train_model(model, train_dataset, validation_dataset):\n",
    "    model.compile(optimizer=keras.optimizers.Adam(0.001))\n",
    "\n",
    "    callbacks = [\n",
    "        tf.keras.callbacks.EarlyStopping(monitor='val_accuracy', patience=20),\n",
    "        tf.keras.callbacks.CSVLogger('.\\\\log.csv', separator=\",\", append=True),\n",
    "        tf.keras.callbacks.ReduceLROnPlateau(\n",
    "                monitor='val_accuracy',\n",
    "                factor=0.1,\n",
    "                patience=5,\n",
    "                verbose=1,\n",
    "                min_lr=1e-7\n",
    "        )\n",
    "    ]\n",
    "\n",
    "    history = model.fit(train_dataset, epochs=1, validation_data=validation_dataset, callbacks=callbacks)\n",
    "    \n",
    "    return history"
   ]
  },
  {
   "cell_type": "code",
   "execution_count": 6,
   "id": "ab670e7d",
   "metadata": {},
   "outputs": [],
   "source": [
    "# 93.98 --> Prior, CBAM, batch_size=32"
   ]
  },
  {
   "cell_type": "code",
   "execution_count": 7,
   "id": "58fa7aa1",
   "metadata": {},
   "outputs": [],
   "source": [
    "def log_config(use_prior, use_cbam, train_vgg, embedding_size, dataset, fold, batch_size=16):\n",
    "    train_dataset, validation_dataset = load_datasets(dataset, fold, batch_size)\n",
    "    model, network = build_final_model(use_prior, use_cbam, train_vgg, embedding_size)\n",
    "    history = train_model(model, train_dataset, validation_dataset)\n",
    "    \n",
    "    del network, model, train_dataset, validation_dataset\n",
    "    return history"
   ]
  },
  {
   "cell_type": "code",
   "execution_count": null,
   "id": "e576f45e",
   "metadata": {
    "scrolled": true
   },
   "outputs": [
    {
     "name": "stdout",
     "output_type": "stream",
     "text": [
      "{'use_prior': True, 'use_cbam': True, 'train_vgg': True, 'dataset': 'KII', 'test_fold': '0'}\n",
      "     77/Unknown - 15s 111ms/step - loss: 23328.7715 - accuracy: 0.8413 - ap_mean: 286323.7500 - ap_std: 6473946.0000 - an_mean: 5498931.0000 - an_std: 6473946.0000"
     ]
    }
   ],
   "source": [
    "# batch_sizes = [16]\n",
    "# embedding_sizes = [1024] \n",
    "use_prior_list = [True, False]\n",
    "use_cbam_list = [True, False] \n",
    "train_vgg_list = [False, True]\n",
    "datasets = ['KI', 'KII']\n",
    "folds = ['0', '1', '2', '3', '4']\n",
    "\n",
    "logs = []\n",
    "counter = 0\n",
    "\n",
    "methods = {\n",
    "    (True, True, False, 'KI', '0'),\n",
    "    (True, True, False, 'KI', '1'),\n",
    "    (True, True, False, 'KI', '2'),\n",
    "    (True, True, False, 'KI', '3'),\n",
    "    (True, True, False, 'KI', '4'),\n",
    "    \n",
    "    (True, True, False, 'KII', '0'),\n",
    "    (True, True, False, 'KII', '1'),\n",
    "    (True, True, False, 'KII', '2'),\n",
    "    (True, True, False, 'KII', '3'),\n",
    "    (True, True, False, 'KII', '4'),\n",
    "    \n",
    "    (False, True, False, 'KI', '0'),\n",
    "    (False, True, False, 'KI', '1'),\n",
    "    (False, True, False, 'KI', '2'),\n",
    "    (False, True, False, 'KI', '3'),\n",
    "    (False, True, False, 'KI', '4'),\n",
    "    \n",
    "    (False, True, False, 'KII', '0'),\n",
    "    (False, True, False, 'KII', '1'),\n",
    "    (False, True, False, 'KII', '2'),\n",
    "    (False, True, False, 'KII', '3'),\n",
    "    (False, True, False, 'KII', '4'),\n",
    "    \n",
    "    (True, False, False, 'KI', '0'),\n",
    "    (True, False, False, 'KI', '1'),\n",
    "    (True, False, False, 'KI', '2'),\n",
    "    (True, False, False, 'KI', '3'),\n",
    "    (True, False, False, 'KI', '4'),\n",
    "    \n",
    "    (True, False, False, 'KII', '0'),\n",
    "    (True, False, False, 'KII', '1'),\n",
    "    (True, False, False, 'KII', '2'),\n",
    "    (True, False, False, 'KII', '3'),\n",
    "    (True, False, False, 'KII', '4'),\n",
    "    \n",
    "    (False, False, False, 'KI', '0'),\n",
    "    (False, False, False, 'KI', '1'),\n",
    "    (False, False, False, 'KI', '2'),\n",
    "    (False, False, False, 'KI', '3'),\n",
    "    (False, False, False, 'KI', '4'),\n",
    "    \n",
    "    (False, False, False, 'KII', '0'),\n",
    "    (False, False, False, 'KII', '1'),\n",
    "    (False, False, False, 'KII', '2'),\n",
    "    (False, False, False, 'KII', '3'),\n",
    "    (False, False, False, 'KII', '4'),\n",
    "    \n",
    "    (True, True, True, 'KI', '0'),\n",
    "    (True, True, True, 'KI', '1'),\n",
    "    (True, True, True, 'KI', '2'),\n",
    "    (True, True, True, 'KI', '3'),\n",
    "    (True, True, True, 'KI', '4'),\n",
    "    \n",
    "    (True, True, True, 'KII', '0'),\n",
    "    \n",
    "    (True, False, True, 'KI', '0'),\n",
    "    \n",
    "    \n",
    "    (True, False, True, 'KII', '0'),\n",
    "    \n",
    "    \n",
    "    (False, False, True, 'KI', '0'),\n",
    "    \n",
    "    \n",
    "    (False, False, True, 'KII', '0'),\n",
    "    \n",
    "    \n",
    "    (False, True, True, 'KI', '0'),\n",
    "    \n",
    "    \n",
    "    (False, True, True, 'KII', '0'),\n",
    "    \n",
    "}\n",
    "for train_vgg in train_vgg_list:\n",
    "    for use_cbam in use_cbam_list:\n",
    "        for use_prior in use_prior_list:\n",
    "            for dataset in datasets:\n",
    "                for fold in folds:\n",
    "                    \n",
    "                    config = {\n",
    "                        'use_prior': use_prior,\n",
    "                        'use_cbam': use_cbam,\n",
    "                        'train_vgg': train_vgg,\n",
    "                        'dataset': dataset,\n",
    "                        'test_fold': fold\n",
    "                    }\n",
    "\n",
    "                    method = (use_prior, use_cbam, train_vgg, dataset, fold)\n",
    "                    if method in methods:\n",
    "                        continue\n",
    "                    else:\n",
    "                        methods.add(method)\n",
    "\n",
    "                    print(config)\n",
    "#                     use_prior, use_cbam, train_vgg, embedding_size, dataset, fold, batch_size=16\n",
    "                    history = log_config(use_prior, use_cbam, train_vgg, 1024, dataset, fold, batch_size=16)\n",
    "                    \n",
    "                    \n",
    "                    config['history'] = history\n",
    "                    logs.append(config)"
   ]
  },
  {
   "cell_type": "code",
   "execution_count": null,
   "id": "c65cdf11",
   "metadata": {},
   "outputs": [],
   "source": [
    "logs"
   ]
  },
  {
   "cell_type": "code",
   "execution_count": null,
   "id": "0d74e89b",
   "metadata": {},
   "outputs": [],
   "source": [
    "import pickle"
   ]
  },
  {
   "cell_type": "code",
   "execution_count": null,
   "id": "c5851e6d",
   "metadata": {},
   "outputs": [],
   "source": [
    "file_log = []\n",
    "\n",
    "for item in logs:\n",
    "    file_log.append({\n",
    "        'use_prior': item['use_prior'],\n",
    "        'use_cbam': item['use_cbam'],\n",
    "        'train_vgg': item['train_vgg'],\n",
    "        'embedding_size': item['embedding_size'],\n",
    "        'dataset': item['dataset'],\n",
    "        'batch_size': item['batch_size'],\n",
    "        'logs': item['history'].history\n",
    "    })\n"
   ]
  },
  {
   "cell_type": "code",
   "execution_count": null,
   "id": "5f17678f",
   "metadata": {},
   "outputs": [],
   "source": []
  },
  {
   "cell_type": "code",
   "execution_count": null,
   "id": "a06408c0",
   "metadata": {},
   "outputs": [],
   "source": [
    "byte_array = pickle.dumps(file_log)"
   ]
  },
  {
   "cell_type": "code",
   "execution_count": null,
   "id": "8923dd08",
   "metadata": {},
   "outputs": [],
   "source": [
    "with open('ablation_study_final.pkl', 'wb') as file:\n",
    "    file.write(byte_array)"
   ]
  },
  {
   "cell_type": "code",
   "execution_count": null,
   "id": "0bbda78b",
   "metadata": {},
   "outputs": [],
   "source": [
    "# config = {'use_prior': True, 'use_cbam': True, 'train_vgg': True, 'embedding_size': 1024, 'dataset': 'KI', 'batch_size': 16}"
   ]
  },
  {
   "cell_type": "code",
   "execution_count": null,
   "id": "92daeb0a",
   "metadata": {},
   "outputs": [],
   "source": [
    "# history = log_config(**config)"
   ]
  },
  {
   "cell_type": "code",
   "execution_count": null,
   "id": "6006e11d",
   "metadata": {},
   "outputs": [],
   "source": [
    "# for item in file_log:\n",
    "#     print(f'prior: {item[\"use_prior\"]}, use cbam:{item[\"use_cbam\"]}, train_vgg: {item[\"train_vgg\"]}, embedding_size:{item[\"embedding_size\"]}, dataset: {item[\"dataset\"]}')\n",
    "#     print(item['logs']['val_accuracy'])\n",
    "#     print()"
   ]
  },
  {
   "cell_type": "code",
   "execution_count": null,
   "id": "49ed800c",
   "metadata": {},
   "outputs": [],
   "source": [
    "# logs[0]['history'].history['val_accuracy']"
   ]
  },
  {
   "cell_type": "code",
   "execution_count": null,
   "id": "ec53cd56",
   "metadata": {},
   "outputs": [],
   "source": [
    "# fig, axs = plt.subplots(6, 3, figsize=(15, 12))\n",
    "# fig.tight_layout(pad=2.0)\n",
    "\n",
    "# for i in range(6):\n",
    "#     for j in range(3):\n",
    "#         idx = i * 3 + j\n",
    "#         item = file_log[idx]\n",
    "#         accuracy = item['logs']['accuracy']\n",
    "#         val_accuracy = item['logs']['val_accuracy']\n",
    "        \n",
    "#         axs[i, j].plot(accuracy, color='blue', label='accuracy')\n",
    "#         axs[i, j].plot(val_accuracy, color='red', label='val_accuracy')\n",
    "#         axs[i, j].legend()\n",
    "        \n",
    "#         label = f'{item[\"use_prior\"]}, {item[\"use_cbam\"]}, {item[\"train_vgg\"]}, {item[\"dataset\"]}, {item[\"embedding_size\"]}, {val_accuracy[-1]:.2f}'\n",
    "        \n",
    "#         axs[i, j].set_title(label)\n",
    "# plt.show()"
   ]
  },
  {
   "cell_type": "code",
   "execution_count": null,
   "id": "ff1b1495",
   "metadata": {},
   "outputs": [],
   "source": [
    "# mask_generator = keras.models.load_model('model.h5')"
   ]
  },
  {
   "cell_type": "code",
   "execution_count": null,
   "id": "b1e5d859",
   "metadata": {},
   "outputs": [],
   "source": [
    "# keras.utils.plot_model(mask_generator)"
   ]
  },
  {
   "cell_type": "code",
   "execution_count": null,
   "id": "ca9e4404",
   "metadata": {},
   "outputs": [],
   "source": []
  },
  {
   "cell_type": "code",
   "execution_count": null,
   "id": "3ffece91",
   "metadata": {},
   "outputs": [],
   "source": []
  }
 ],
 "metadata": {
  "kernelspec": {
   "display_name": "Python 3 (ipykernel)",
   "language": "python",
   "name": "python3"
  },
  "language_info": {
   "codemirror_mode": {
    "name": "ipython",
    "version": 3
   },
   "file_extension": ".py",
   "mimetype": "text/x-python",
   "name": "python",
   "nbconvert_exporter": "python",
   "pygments_lexer": "ipython3",
   "version": "3.9.15"
  }
 },
 "nbformat": 4,
 "nbformat_minor": 5
}
