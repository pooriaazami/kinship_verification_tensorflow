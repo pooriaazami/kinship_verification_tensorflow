{
 "cells": [
  {
   "cell_type": "code",
   "execution_count": 1,
   "id": "acf89fbb",
   "metadata": {},
   "outputs": [],
   "source": [
    "import tensorflow as tf\n",
    "import tensorflow.keras as keras\n",
    "\n",
    "from PIL import Image\n",
    "\n",
    "from functools import partial"
   ]
  },
  {
   "cell_type": "code",
   "execution_count": 24,
   "id": "7873c5d7",
   "metadata": {},
   "outputs": [],
   "source": [
    "def decode_image(img):\n",
    "    img = tf.io.decode_jpeg(img, channels=3)\n",
    "    img = tf.cast(img, tf.float32)\n",
    "    img = tf.reshape(img, [64, 64, 3])\n",
    "    \n",
    "    return img\n",
    "\n",
    "def _parse_example(example, data_shape):\n",
    "    tensor = tf.io.parse_single_example(example, data_shape)\n",
    "    \n",
    "    datapoint = {\n",
    "        'anchor': decode_image(tensor['anchor']),\n",
    "        'pos': decode_image(tensor['pos']),\n",
    "        'neg': decode_image(tensor['neg'])\n",
    "    }\n",
    "    \n",
    "    return datapoint"
   ]
  },
  {
   "cell_type": "code",
   "execution_count": 25,
   "id": "2cd0a0bd",
   "metadata": {},
   "outputs": [],
   "source": [
    "dataset = tf.data.TFRecordDataset('KinFaceWITestFolds_jpeg.tfrecords')"
   ]
  },
  {
   "cell_type": "code",
   "execution_count": 28,
   "id": "8d6b9e4d",
   "metadata": {},
   "outputs": [],
   "source": [
    "data_shape = {\n",
    "    'anchor': tf.io.FixedLenFeature([], tf.string),\n",
    "    'pos': tf.io.FixedLenFeature([], tf.string),\n",
    "    'neg': tf.io.FixedLenFeature([], tf.string)\n",
    "}\n",
    "\n",
    "parser = partial(_parse_example, data_shape=data_shape)\n",
    "dataset = dataset.map(parser).shuffle(2048).batch(128).prefetch(2)"
   ]
  },
  {
   "cell_type": "code",
   "execution_count": 32,
   "id": "abef6389",
   "metadata": {},
   "outputs": [
    {
     "name": "stdout",
     "output_type": "stream",
     "text": [
      "(128, 64, 64, 3)\n"
     ]
    }
   ],
   "source": [
    "for item in dataset:\n",
    "    print(item['anchor'].shape)\n",
    "    break"
   ]
  },
  {
   "cell_type": "code",
   "execution_count": null,
   "id": "2d74d5c9",
   "metadata": {},
   "outputs": [],
   "source": []
  },
  {
   "cell_type": "code",
   "execution_count": null,
   "id": "ad81c959",
   "metadata": {},
   "outputs": [],
   "source": []
  }
 ],
 "metadata": {
  "kernelspec": {
   "display_name": "Python 3 (ipykernel)",
   "language": "python",
   "name": "python3"
  },
  "language_info": {
   "codemirror_mode": {
    "name": "ipython",
    "version": 3
   },
   "file_extension": ".py",
   "mimetype": "text/x-python",
   "name": "python",
   "nbconvert_exporter": "python",
   "pygments_lexer": "ipython3",
   "version": "3.9.15"
  }
 },
 "nbformat": 4,
 "nbformat_minor": 5
}
