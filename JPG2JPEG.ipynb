{
 "cells": [
  {
   "cell_type": "code",
   "execution_count": 1,
   "id": "dd52f833",
   "metadata": {},
   "outputs": [],
   "source": [
    "import os"
   ]
  },
  {
   "cell_type": "code",
   "execution_count": 2,
   "id": "06e90823",
   "metadata": {},
   "outputs": [],
   "source": [
    "DATASET_PATH = 'data\\\\'"
   ]
  },
  {
   "cell_type": "code",
   "execution_count": 8,
   "id": "ea2a183f",
   "metadata": {},
   "outputs": [],
   "source": [
    "for root, _, files in os.walk(DATASET_PATH):\n",
    "    \n",
    "    for file in files:\n",
    "        for file in files:\n",
    "            if file.endswith('jpg'):\n",
    "                old_path = f'{root}\\\\{file}'\n",
    "                new_path = old_path[:-3]\n",
    "                new_path += 'jpeg'\n",
    "                try:\n",
    "                    os.rename(old_path, new_path)\n",
    "                except:\n",
    "                    pass"
   ]
  },
  {
   "cell_type": "code",
   "execution_count": null,
   "id": "fefa2b57",
   "metadata": {},
   "outputs": [],
   "source": []
  }
 ],
 "metadata": {
  "kernelspec": {
   "display_name": "Python 3 (ipykernel)",
   "language": "python",
   "name": "python3"
  },
  "language_info": {
   "codemirror_mode": {
    "name": "ipython",
    "version": 3
   },
   "file_extension": ".py",
   "mimetype": "text/x-python",
   "name": "python",
   "nbconvert_exporter": "python",
   "pygments_lexer": "ipython3",
   "version": "3.9.15"
  }
 },
 "nbformat": 4,
 "nbformat_minor": 5
}
