{
 "cells": [
  {
   "cell_type": "code",
   "execution_count": 170,
   "id": "9d021265",
   "metadata": {},
   "outputs": [],
   "source": [
    "import tensorflow as tf\n",
    "import numpy as np\n",
    "\n",
    "import tensorflow_datasets as tfds"
   ]
  },
  {
   "cell_type": "code",
   "execution_count": 171,
   "id": "43fd3923",
   "metadata": {},
   "outputs": [
    {
     "data": {
      "text/plain": [
       "'2.6.0'"
      ]
     },
     "execution_count": 171,
     "metadata": {},
     "output_type": "execute_result"
    }
   ],
   "source": [
    "tf.__version__"
   ]
  },
  {
   "cell_type": "code",
   "execution_count": 172,
   "id": "c2465d2d",
   "metadata": {},
   "outputs": [],
   "source": [
    "DATASET_PATH = 'D:\\\\Kinship Verification\\\\tensorflow_codes\\\\data\\\\KinFaceW\\\\KinFaceW-I'"
   ]
  },
  {
   "cell_type": "code",
   "execution_count": 173,
   "id": "3c880609",
   "metadata": {},
   "outputs": [],
   "source": [
    "anchor_img = tf.keras.utils.load_img(DATASET_PATH+'\\\\father-dau\\\\fd_001_1.jpg')\n",
    "pos_img = tf.keras.utils.load_img(DATASET_PATH+'\\\\father-dau\\\\fd_001_2.jpg')\n",
    "# img = tf.keras.utils.load_img('sample.jpeg')"
   ]
  },
  {
   "cell_type": "code",
   "execution_count": 174,
   "id": "dce1910a",
   "metadata": {},
   "outputs": [],
   "source": [
    "# img = np.array(img)"
   ]
  },
  {
   "cell_type": "code",
   "execution_count": 175,
   "id": "2f02b8dd",
   "metadata": {},
   "outputs": [],
   "source": [
    "anchor = tf.train.Feature(\n",
    "    bytes_list=tf.train.BytesList(value=[anchor_img.tobytes()])\n",
    ")\n",
    "\n",
    "pos = tf.train.Feature(\n",
    "    bytes_list=tf.train.BytesList(value=[pos_img.tobytes()])\n",
    ")"
   ]
  },
  {
   "cell_type": "code",
   "execution_count": 176,
   "id": "b13b98dd",
   "metadata": {},
   "outputs": [],
   "source": [
    "ex = tf.train.Example(\n",
    "    features=tf.train.Features(feature={\n",
    "        'anchor': anchor,\n",
    "        'pos': pos\n",
    "    }\n",
    "))"
   ]
  },
  {
   "cell_type": "code",
   "execution_count": 177,
   "id": "b7eb9092",
   "metadata": {},
   "outputs": [],
   "source": [
    "record_file = 'images.tfrecords'\n",
    "with tf.io.TFRecordWriter(record_file) as writer:\n",
    "    writer.write(ex.SerializeToString())"
   ]
  },
  {
   "cell_type": "code",
   "execution_count": 196,
   "id": "880581a3",
   "metadata": {},
   "outputs": [
    {
     "data": {
      "text/plain": [
       "<MapDataset shapes: {anchor: (), pos: ()}, types: {anchor: tf.string, pos: tf.string}>"
      ]
     },
     "execution_count": 196,
     "metadata": {},
     "output_type": "execute_result"
    }
   ],
   "source": [
    "raw_image_dataset = tf.data.TFRecordDataset('images.tfrecords')\n",
    "\n",
    "def _parse_image_function(example_proto):\n",
    "#     print(example_proto)\n",
    "    tensor = tf.io.parse_single_example(example_proto, {\n",
    "        'anchor': tf.io.FixedLenFeature([], tf.string),\n",
    "        'pos': tf.io.FixedLenFeature([], tf.string)\n",
    "    })\n",
    "#     print(tensor['anchor'].numpy())\n",
    "    return tensor\n",
    "\n",
    "raw_image_dataset.map(_parse_image_function)"
   ]
  },
  {
   "cell_type": "code",
   "execution_count": 197,
   "id": "4f9d6946",
   "metadata": {},
   "outputs": [],
   "source": [
    "features = tfds.features.FeaturesDict({\n",
    "    'anchor':\n",
    "        tfds.features.Image(\n",
    "            shape=(256, 256, 3),\n",
    "            doc='Picture taken by smartphone, downscaled.'),\n",
    "    'pos':\n",
    "        tfds.features.Image(\n",
    "            shape=(256, 256, 3),\n",
    "            doc='Picture taken by smartphone, downscaled.'),\n",
    "})"
   ]
  },
  {
   "cell_type": "code",
   "execution_count": 198,
   "id": "638ef0e3",
   "metadata": {},
   "outputs": [],
   "source": [
    "import IPython.display as display\n",
    "from PIL import Image"
   ]
  },
  {
   "cell_type": "code",
   "execution_count": 199,
   "id": "1d1fd48d",
   "metadata": {},
   "outputs": [],
   "source": [
    "for item in raw_image_dataset:\n",
    "    t = tf.io.parse_single_example(item, {\n",
    "        'anchor': tf.io.FixedLenFeature([], tf.string),\n",
    "        'pos': tf.io.FixedLenFeature([], tf.string)\n",
    "    })\n",
    "#     print(t['pos_image'].numpy())\n",
    "    im = Image.frombytes('RGB', (64,64), t['pos'].numpy(), 'raw')"
   ]
  },
  {
   "cell_type": "code",
   "execution_count": 200,
   "id": "d9e157e4",
   "metadata": {},
   "outputs": [
    {
     "data": {
      "image/png": "[encoded data removed]",
      "text/plain": [
       "<PIL.Image.Image image mode=RGB size=64x64>"
      ]
     },
     "execution_count": 200,
     "metadata": {},
     "output_type": "execute_result"
    }
   ],
   "source": [
    "im"
   ]
  },
  {
   "cell_type": "code",
   "execution_count": null,
   "id": "c7da0747",
   "metadata": {},
   "outputs": [],
   "source": []
  },
  {
   "cell_type": "code",
   "execution_count": null,
   "id": "09a088e1",
   "metadata": {},
   "outputs": [],
   "source": []
  }
 ],
 "metadata": {
  "kernelspec": {
   "display_name": "Python 3 (ipykernel)",
   "language": "python",
   "name": "python3"
  },
  "language_info": {
   "codemirror_mode": {
    "name": "ipython",
    "version": 3
   },
   "file_extension": ".py",
   "mimetype": "text/x-python",
   "name": "python",
   "nbconvert_exporter": "python",
   "pygments_lexer": "ipython3",
   "version": "3.9.15"
  }
 },
 "nbformat": 4,
 "nbformat_minor": 5
}
