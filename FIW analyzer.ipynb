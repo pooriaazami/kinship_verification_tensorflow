{
 "cells": [
  {
   "cell_type": "code",
   "execution_count": 58,
   "id": "7cd4c58e",
   "metadata": {},
   "outputs": [],
   "source": [
    "import numpy as np\n",
    "import pandas as pd\n",
    "\n",
    "import itertools"
   ]
  },
  {
   "cell_type": "code",
   "execution_count": 2,
   "id": "8afca6b1",
   "metadata": {},
   "outputs": [],
   "source": [
    "LABELS_PATH = 'data\\\\FIW\\\\train-pairs.csv'"
   ]
  },
  {
   "cell_type": "code",
   "execution_count": 3,
   "id": "fc41fa84",
   "metadata": {},
   "outputs": [],
   "source": [
    "df = pd.read_csv(LABELS_PATH)"
   ]
  },
  {
   "cell_type": "code",
   "execution_count": 4,
   "id": "e6bba443",
   "metadata": {},
   "outputs": [
    {
     "data": {
      "text/html": [
       "<div>\n",
       "<style scoped>\n",
       "    .dataframe tbody tr th:only-of-type {\n",
       "        vertical-align: middle;\n",
       "    }\n",
       "\n",
       "    .dataframe tbody tr th {\n",
       "        vertical-align: top;\n",
       "    }\n",
       "\n",
       "    .dataframe thead th {\n",
       "        text-align: right;\n",
       "    }\n",
       "</style>\n",
       "<table border=\"1\" class=\"dataframe\">\n",
       "  <thead>\n",
       "    <tr style=\"text-align: right;\">\n",
       "      <th></th>\n",
       "      <th>p1</th>\n",
       "      <th>p2</th>\n",
       "      <th>ptype</th>\n",
       "      <th>fid1</th>\n",
       "      <th>fid2</th>\n",
       "      <th>tags</th>\n",
       "      <th>set</th>\n",
       "      <th>nsamples</th>\n",
       "    </tr>\n",
       "  </thead>\n",
       "  <tbody>\n",
       "    <tr>\n",
       "      <th>0</th>\n",
       "      <td>F0001/MID1</td>\n",
       "      <td>F0001/MID3</td>\n",
       "      <td>fs</td>\n",
       "      <td>F0001</td>\n",
       "      <td>F0001</td>\n",
       "      <td>0</td>\n",
       "      <td>0</td>\n",
       "      <td>6</td>\n",
       "    </tr>\n",
       "    <tr>\n",
       "      <th>1</th>\n",
       "      <td>F0001/MID1</td>\n",
       "      <td>F0001/MID4</td>\n",
       "      <td>fs</td>\n",
       "      <td>F0001</td>\n",
       "      <td>F0001</td>\n",
       "      <td>0</td>\n",
       "      <td>0</td>\n",
       "      <td>18</td>\n",
       "    </tr>\n",
       "    <tr>\n",
       "      <th>2</th>\n",
       "      <td>F0001/MID2</td>\n",
       "      <td>F0001/MID4</td>\n",
       "      <td>ms</td>\n",
       "      <td>F0001</td>\n",
       "      <td>F0001</td>\n",
       "      <td>0</td>\n",
       "      <td>0</td>\n",
       "      <td>15</td>\n",
       "    </tr>\n",
       "    <tr>\n",
       "      <th>3</th>\n",
       "      <td>F0001/MID2</td>\n",
       "      <td>F0001/MID3</td>\n",
       "      <td>ms</td>\n",
       "      <td>F0001</td>\n",
       "      <td>F0001</td>\n",
       "      <td>0</td>\n",
       "      <td>0</td>\n",
       "      <td>5</td>\n",
       "    </tr>\n",
       "    <tr>\n",
       "      <th>4</th>\n",
       "      <td>F0001/MID3</td>\n",
       "      <td>F0001/MID4</td>\n",
       "      <td>ss</td>\n",
       "      <td>F0001</td>\n",
       "      <td>F0001</td>\n",
       "      <td>0</td>\n",
       "      <td>0</td>\n",
       "      <td>3</td>\n",
       "    </tr>\n",
       "  </tbody>\n",
       "</table>\n",
       "</div>"
      ],
      "text/plain": [
       "           p1          p2 ptype   fid1   fid2  tags  set  nsamples\n",
       "0  F0001/MID1  F0001/MID3    fs  F0001  F0001     0    0         6\n",
       "1  F0001/MID1  F0001/MID4    fs  F0001  F0001     0    0        18\n",
       "2  F0001/MID2  F0001/MID4    ms  F0001  F0001     0    0        15\n",
       "3  F0001/MID2  F0001/MID3    ms  F0001  F0001     0    0         5\n",
       "4  F0001/MID3  F0001/MID4    ss  F0001  F0001     0    0         3"
      ]
     },
     "execution_count": 4,
     "metadata": {},
     "output_type": "execute_result"
    }
   ],
   "source": [
    "df.head()"
   ]
  },
  {
   "cell_type": "code",
   "execution_count": 14,
   "id": "be5323d6",
   "metadata": {},
   "outputs": [],
   "source": [
    "RELS = ['fs', 'fd', 'md', 'ms']\n",
    "FOLDS_paths = [f'data\\\\FIW\\\\folds\\\\{rel}.csv' for rel in RELS]"
   ]
  },
  {
   "cell_type": "code",
   "execution_count": 15,
   "id": "91ba823a",
   "metadata": {},
   "outputs": [],
   "source": [
    "dfs = [pd.read_csv(path) for path in FOLDS_paths]"
   ]
  },
  {
   "cell_type": "code",
   "execution_count": 16,
   "id": "39f5553b",
   "metadata": {},
   "outputs": [],
   "source": [
    "compound_df = pd.concat(dfs)"
   ]
  },
  {
   "cell_type": "code",
   "execution_count": 19,
   "id": "fbfd9788",
   "metadata": {},
   "outputs": [
    {
     "data": {
      "text/html": [
       "<div>\n",
       "<style scoped>\n",
       "    .dataframe tbody tr th:only-of-type {\n",
       "        vertical-align: middle;\n",
       "    }\n",
       "\n",
       "    .dataframe tbody tr th {\n",
       "        vertical-align: top;\n",
       "    }\n",
       "\n",
       "    .dataframe thead th {\n",
       "        text-align: right;\n",
       "    }\n",
       "</style>\n",
       "<table border=\"1\" class=\"dataframe\">\n",
       "  <thead>\n",
       "    <tr style=\"text-align: right;\">\n",
       "      <th></th>\n",
       "      <th>fold</th>\n",
       "      <th>label</th>\n",
       "      <th>p1</th>\n",
       "      <th>p2</th>\n",
       "    </tr>\n",
       "  </thead>\n",
       "  <tbody>\n",
       "    <tr>\n",
       "      <th>0</th>\n",
       "      <td>1</td>\n",
       "      <td>1</td>\n",
       "      <td>F0695/MID3/P07238_face1.jpg</td>\n",
       "      <td>F0695/MID1/P07245_face2.jpg</td>\n",
       "    </tr>\n",
       "    <tr>\n",
       "      <th>1</th>\n",
       "      <td>1</td>\n",
       "      <td>1</td>\n",
       "      <td>F0695/MID3/P07238_face1.jpg</td>\n",
       "      <td>F0695/MID1/P07240_face2.jpg</td>\n",
       "    </tr>\n",
       "    <tr>\n",
       "      <th>2</th>\n",
       "      <td>1</td>\n",
       "      <td>1</td>\n",
       "      <td>F0695/MID3/P07238_face1.jpg</td>\n",
       "      <td>F0695/MID1/P07242_face2.jpg</td>\n",
       "    </tr>\n",
       "    <tr>\n",
       "      <th>3</th>\n",
       "      <td>1</td>\n",
       "      <td>1</td>\n",
       "      <td>F0695/MID3/P07238_face1.jpg</td>\n",
       "      <td>F0695/MID1/P07244_face2.jpg</td>\n",
       "    </tr>\n",
       "    <tr>\n",
       "      <th>4</th>\n",
       "      <td>1</td>\n",
       "      <td>1</td>\n",
       "      <td>F0695/MID3/P07238_face1.jpg</td>\n",
       "      <td>F0695/MID1/P07241_face2.jpg</td>\n",
       "    </tr>\n",
       "  </tbody>\n",
       "</table>\n",
       "</div>"
      ],
      "text/plain": [
       "   fold  label                           p1                           p2\n",
       "0     1      1  F0695/MID3/P07238_face1.jpg  F0695/MID1/P07245_face2.jpg\n",
       "1     1      1  F0695/MID3/P07238_face1.jpg  F0695/MID1/P07240_face2.jpg\n",
       "2     1      1  F0695/MID3/P07238_face1.jpg  F0695/MID1/P07242_face2.jpg\n",
       "3     1      1  F0695/MID3/P07238_face1.jpg  F0695/MID1/P07244_face2.jpg\n",
       "4     1      1  F0695/MID3/P07238_face1.jpg  F0695/MID1/P07241_face2.jpg"
      ]
     },
     "execution_count": 19,
     "metadata": {},
     "output_type": "execute_result"
    }
   ],
   "source": [
    "compound_df.head()"
   ]
  },
  {
   "cell_type": "code",
   "execution_count": 23,
   "id": "b3028b03",
   "metadata": {},
   "outputs": [],
   "source": [
    "fold1 = compound_df[compound_df['fold'] == 1]\n",
    "fold2 = compound_df[compound_df['fold'] == 2]\n",
    "fold3 = compound_df[compound_df['fold'] == 3]\n",
    "fold4 = compound_df[compound_df['fold'] == 4]\n",
    "fold5 = compound_df[compound_df['fold'] == 5]"
   ]
  },
  {
   "cell_type": "code",
   "execution_count": 29,
   "id": "74e90f1e",
   "metadata": {},
   "outputs": [
    {
     "data": {
      "text/html": [
       "<div>\n",
       "<style scoped>\n",
       "    .dataframe tbody tr th:only-of-type {\n",
       "        vertical-align: middle;\n",
       "    }\n",
       "\n",
       "    .dataframe tbody tr th {\n",
       "        vertical-align: top;\n",
       "    }\n",
       "\n",
       "    .dataframe thead th {\n",
       "        text-align: right;\n",
       "    }\n",
       "</style>\n",
       "<table border=\"1\" class=\"dataframe\">\n",
       "  <thead>\n",
       "    <tr style=\"text-align: right;\">\n",
       "      <th></th>\n",
       "      <th>fold</th>\n",
       "      <th>label</th>\n",
       "      <th>p1</th>\n",
       "      <th>p2</th>\n",
       "    </tr>\n",
       "  </thead>\n",
       "  <tbody>\n",
       "    <tr>\n",
       "      <th>0</th>\n",
       "      <td>1</td>\n",
       "      <td>1</td>\n",
       "      <td>F0695/MID3/P07238_face1.jpg</td>\n",
       "      <td>F0695/MID1/P07245_face2.jpg</td>\n",
       "    </tr>\n",
       "    <tr>\n",
       "      <th>1</th>\n",
       "      <td>1</td>\n",
       "      <td>1</td>\n",
       "      <td>F0695/MID3/P07238_face1.jpg</td>\n",
       "      <td>F0695/MID1/P07240_face2.jpg</td>\n",
       "    </tr>\n",
       "    <tr>\n",
       "      <th>2</th>\n",
       "      <td>1</td>\n",
       "      <td>1</td>\n",
       "      <td>F0695/MID3/P07238_face1.jpg</td>\n",
       "      <td>F0695/MID1/P07242_face2.jpg</td>\n",
       "    </tr>\n",
       "    <tr>\n",
       "      <th>3</th>\n",
       "      <td>1</td>\n",
       "      <td>1</td>\n",
       "      <td>F0695/MID3/P07238_face1.jpg</td>\n",
       "      <td>F0695/MID1/P07244_face2.jpg</td>\n",
       "    </tr>\n",
       "    <tr>\n",
       "      <th>4</th>\n",
       "      <td>1</td>\n",
       "      <td>1</td>\n",
       "      <td>F0695/MID3/P07238_face1.jpg</td>\n",
       "      <td>F0695/MID1/P07241_face2.jpg</td>\n",
       "    </tr>\n",
       "  </tbody>\n",
       "</table>\n",
       "</div>"
      ],
      "text/plain": [
       "   fold  label                           p1                           p2\n",
       "0     1      1  F0695/MID3/P07238_face1.jpg  F0695/MID1/P07245_face2.jpg\n",
       "1     1      1  F0695/MID3/P07238_face1.jpg  F0695/MID1/P07240_face2.jpg\n",
       "2     1      1  F0695/MID3/P07238_face1.jpg  F0695/MID1/P07242_face2.jpg\n",
       "3     1      1  F0695/MID3/P07238_face1.jpg  F0695/MID1/P07244_face2.jpg\n",
       "4     1      1  F0695/MID3/P07238_face1.jpg  F0695/MID1/P07241_face2.jpg"
      ]
     },
     "execution_count": 29,
     "metadata": {},
     "output_type": "execute_result"
    }
   ],
   "source": [
    "fold1.head()"
   ]
  },
  {
   "cell_type": "code",
   "execution_count": 50,
   "id": "db3d31af",
   "metadata": {},
   "outputs": [],
   "source": [
    "base_path = 'data\\\\FIW\\\\train-faces\\\\'\n",
    "def build_pairs_dict(fold_df):\n",
    "    ids = {}\n",
    "    pairs = []\n",
    "    \n",
    "    for row in fold_df.iterrows():\n",
    "        label = row[1][1]\n",
    "        if label == 0:\n",
    "            continue\n",
    "            \n",
    "        img1 = row[1][2]\n",
    "        img2 = row[1][3]\n",
    "        \n",
    "        s1 = img1.split('/')\n",
    "        s2 = img2.split('/')\n",
    "        \n",
    "        fid = s1[0]\n",
    "        if not ids.get(fid):\n",
    "            ids[fid] = len(ids)\n",
    "        \n",
    "        fid = ids[fid]\n",
    "        pairs.append({\n",
    "            'id': fid, 'root': base_path, 'parent': s1[-1], 'child':s2[-1]\n",
    "        })\n",
    "    \n",
    "    return pairs"
   ]
  },
  {
   "cell_type": "code",
   "execution_count": 52,
   "id": "11559f2f",
   "metadata": {},
   "outputs": [],
   "source": [
    "def generate_triplets(pairs):\n",
    "    print(f'[log]: generating triples...')\n",
    "    triplets = []\n",
    "\n",
    "    for first, second in itertools.product(pairs, pairs):\n",
    "        if first['id'] == second['id']:\n",
    "            continue\n",
    "\n",
    "        triplets.append({\n",
    "            'id': len(triplets),\n",
    "            'parent': first['root'] + '\\\\' + first['parent'],\n",
    "            'child': first['root'] + '\\\\' + first['child'],\n",
    "            'negative_child': second['root'] + '\\\\' + second['parent']\n",
    "        })\n",
    "\n",
    "        triplets.append({\n",
    "            'id': len(triplets),\n",
    "            'parent': first['root'] + '\\\\' + first['parent'],\n",
    "            'child': first['root'] + '\\\\' +first['child'],\n",
    "            'negative_child': second['root'] + '\\\\' +  second['child']\n",
    "        })\n",
    "\n",
    "    return triplets"
   ]
  },
  {
   "cell_type": "code",
   "execution_count": 55,
   "id": "2c6128d2",
   "metadata": {},
   "outputs": [
    {
     "name": "stdout",
     "output_type": "stream",
     "text": [
      "processing fold1\n",
      "processing fold2\n",
      "processing fold3\n",
      "processing fold4\n",
      "processing fold5\n"
     ]
    }
   ],
   "source": [
    "print('processing fold1')\n",
    "f1_pairs = build_pairs_dict(fold1)\n",
    "\n",
    "print('processing fold2')\n",
    "f2_pairs = build_pairs_dict(fold2)\n",
    "\n",
    "print('processing fold3')\n",
    "f3_pairs = build_pairs_dict(fold3)\n",
    "\n",
    "print('processing fold4')\n",
    "f4_pairs = build_pairs_dict(fold4)\n",
    "\n",
    "print('processing fold5')\n",
    "f5_pairs = build_pairs_dict(fold5)"
   ]
  },
  {
   "cell_type": "code",
   "execution_count": null,
   "id": "0cad0e4e",
   "metadata": {},
   "outputs": [
    {
     "name": "stdout",
     "output_type": "stream",
     "text": [
      "processing fold1\n",
      "[log]: generating triples...\n"
     ]
    }
   ],
   "source": [
    "print('processing fold1')\n",
    "t1 = generate_triplets(f1_pairs)\n",
    "\n",
    "print('processing fold1')\n",
    "t2 = generate_triplets(f2_pairs)\n",
    "\n",
    "print('processing fold1')\n",
    "t3 = generate_triplets(f3_pairs)\n",
    "\n",
    "print('processing fold1')\n",
    "t4 = generate_triplets(f4_pairs)\n",
    "\n",
    "print('processing fold1')\n",
    "t5 = generate_triplets(f5_pairs)"
   ]
  },
  {
   "cell_type": "code",
   "execution_count": null,
   "id": "c27169a4",
   "metadata": {},
   "outputs": [],
   "source": []
  }
 ],
 "metadata": {
  "kernelspec": {
   "display_name": "Python 3 (ipykernel)",
   "language": "python",
   "name": "python3"
  },
  "language_info": {
   "codemirror_mode": {
    "name": "ipython",
    "version": 3
   },
   "file_extension": ".py",
   "mimetype": "text/x-python",
   "name": "python",
   "nbconvert_exporter": "python",
   "pygments_lexer": "ipython3",
   "version": "3.9.15"
  }
 },
 "nbformat": 4,
 "nbformat_minor": 5
}
