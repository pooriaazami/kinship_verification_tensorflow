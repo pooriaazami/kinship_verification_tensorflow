{
 "cells": [
  {
   "cell_type": "code",
   "execution_count": 2,
   "id": "2902a420",
   "metadata": {},
   "outputs": [],
   "source": [
    "DATASET_PATH = r'data\\Family101\\families.txt'"
   ]
  },
  {
   "cell_type": "code",
   "execution_count": 29,
   "id": "2f1eb2ce",
   "metadata": {},
   "outputs": [],
   "source": [
    "rels = {}\n",
    "keys = set()\n",
    "current_family = None\n",
    "\n",
    "with open(DATASET_PATH) as file:\n",
    "    for line in file:\n",
    "        line = line.strip()\n",
    "        if len(line) == 0:\n",
    "            continue\n",
    "        family_index, key, value = line.split('\\t')\n",
    "        keys.add(key)\n",
    "        \n",
    "        if key == 'FAMI':\n",
    "            current_family = value\n",
    "            rels[current_family] = {}\n",
    "        else:\n",
    "            if family_index not in rels[current_family].keys():\n",
    "                rels[current_family][family_index] = {}\n",
    "            \n",
    "            rels[current_family][family_index][key] = value"
   ]
  },
  {
   "cell_type": "code",
   "execution_count": 30,
   "id": "355acf17",
   "metadata": {},
   "outputs": [
    {
     "data": {
      "text/plain": [
       "{'DAUG', 'FAMI', 'HUSB', 'SONN', 'WIFE'}"
      ]
     },
     "execution_count": 30,
     "metadata": {},
     "output_type": "execute_result"
    }
   ],
   "source": [
    "keys"
   ]
  },
  {
   "cell_type": "code",
   "execution_count": 31,
   "id": "6c85f733",
   "metadata": {},
   "outputs": [
    {
     "data": {
      "text/plain": [
       "{'1': {'HUSB': 'Barack_Obama',\n",
       "  'WIFE': 'Michelle_Obama',\n",
       "  'DAUG': 'Natasha_Obama'},\n",
       " '2': {'HUSB': 'Barack_Obama_Sr',\n",
       "  'WIFE': 'Ann_Dunham',\n",
       "  'SONN': 'Barack_Obama'},\n",
       " '3': {'HUSB': 'Lolo_Soetoro', 'WIFE': 'Ann_Dunham', 'DAUG': 'Maya_Soetoro'},\n",
       " '4': {'HUSB': 'Stanley_Dunham',\n",
       "  'WIFE': 'Madelyn_Payne',\n",
       "  'DAUG': 'Ann_Dunham'}}"
      ]
     },
     "execution_count": 31,
     "metadata": {},
     "output_type": "execute_result"
    }
   ],
   "source": [
    "rels['Obama']"
   ]
  },
  {
   "cell_type": "code",
   "execution_count": null,
   "id": "57368960",
   "metadata": {},
   "outputs": [],
   "source": [
    "pairs = []"
   ]
  }
 ],
 "metadata": {
  "kernelspec": {
   "display_name": "Python 3 (ipykernel)",
   "language": "python",
   "name": "python3"
  },
  "language_info": {
   "codemirror_mode": {
    "name": "ipython",
    "version": 3
   },
   "file_extension": ".py",
   "mimetype": "text/x-python",
   "name": "python",
   "nbconvert_exporter": "python",
   "pygments_lexer": "ipython3",
   "version": "3.9.15"
  }
 },
 "nbformat": 4,
 "nbformat_minor": 5
}
